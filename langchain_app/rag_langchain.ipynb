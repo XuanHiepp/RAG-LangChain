{
  "nbformat": 4,
  "nbformat_minor": 0,
  "metadata": {
    "colab": {
      "provenance": [],
      "gpuType": "T4"
    },
    "kernelspec": {
      "name": "python3",
      "display_name": "Python 3"
    },
    "language_info": {
      "name": "python"
    },
    "accelerator": "GPU"
  },
  "cells": [
    {
      "cell_type": "code",
      "execution_count": 1,
      "metadata": {
        "colab": {
          "base_uri": "https://localhost:8080/"
        },
        "id": "0Q97IJxd51Gp",
        "outputId": "78754df7-96dc-4797-ad19-38d3543395c0"
      },
      "outputs": [
        {
          "output_type": "stream",
          "name": "stdout",
          "text": [
            "fatal: destination path 'RAG-LangChain' already exists and is not an empty directory.\n",
            "/content/RAG-LangChain\n"
          ]
        }
      ],
      "source": [
        "!git clone https://github.com/XuanHiepp/RAG-LangChain.git\n",
        "%cd RAG-LangChain"
      ]
    },
    {
      "cell_type": "code",
      "source": [
        "!pip install -r requirements.txt\n",
        "!pip install \"httpx==0.25.2\"\n",
        "!pip install --upgrade transformers"
      ],
      "metadata": {
        "id": "mlrz2LJqXUgu"
      },
      "execution_count": null,
      "outputs": []
    },
    {
      "cell_type": "code",
      "source": [
        "# Download context PDF for generate answers\n",
        "%cd RAG-LangChain\n",
        "!python data_source/generative_ai/download.py"
      ],
      "metadata": {
        "colab": {
          "base_uri": "https://localhost:8080/"
        },
        "id": "9ANrtbva6Shv",
        "outputId": "7390d274-03e4-4bc7-a730-3a1928c47023"
      },
      "execution_count": null,
      "outputs": [
        {
          "output_type": "stream",
          "name": "stdout",
          "text": [
            "[Errno 2] No such file or directory: 'RAG-LangChain'\n",
            "/content/RAG-LangChain\n",
            "Downloading: Attention Is All You Need\n",
            "Downloading: BERT - Pre-training of Deep Bidirectional Transformers for Language Understanding\n",
            "Downloading: Chain-of-Thought Prompting Elicits Reasoning in Large Language Models\n",
            "Downloading: Denoising Diffusion Probabilistic Models\n",
            "Downloading: Instruction Tuning for Large Language Models - A Survey\n",
            "Downloading: Llama 2 - Open Foundation and Fine-Tuned Chat Models\n"
          ]
        }
      ]
    },
    {
      "cell_type": "code",
      "source": [
        "# Add your ngrok authtoken to authenticate your account\n",
        "!ngrok config add-authtoken <YOUR_AUTHTOKEN_HERE>"
      ],
      "metadata": {
        "colab": {
          "base_uri": "https://localhost:8080/"
        },
        "id": "dGrgVmRM8-Si",
        "outputId": "76fd6c0c-10c8-47c7-83ce-48e2bb4b1ad4"
      },
      "execution_count": null,
      "outputs": [
        {
          "output_type": "stream",
          "name": "stdout",
          "text": [
            "Authtoken saved to configuration file: /root/.config/ngrok/ngrok.yml\n"
          ]
        }
      ]
    },
    {
      "cell_type": "code",
      "source": [
        "# Install the Hugging Face Hub CLI tool (quiet mode, no extra output)\n",
        "!pip install -q huggingface_hub\n",
        "\n",
        "# Launch login prompt to authenticate with Hugging Face Hub\n",
        "!huggingface-cli login"
      ],
      "metadata": {
        "id": "t4hD-cpkfaYL"
      },
      "execution_count": null,
      "outputs": []
    },
    {
      "cell_type": "code",
      "source": [
        "import nest_asyncio\n",
        "import uvicorn\n",
        "from pyngrok import ngrok\n",
        "\n",
        "nest_asyncio.apply()\n",
        "public_url = ngrok.connect(8000)\n",
        "print(\"Public URL:\", public_url)\n",
        "uvicorn.run(\"src.app:app\", host=\"0.0.0.0\", port=8000)"
      ],
      "metadata": {
        "id": "neid-GDkfY-S"
      },
      "execution_count": null,
      "outputs": []
    },
    {
      "cell_type": "code",
      "source": [],
      "metadata": {
        "id": "1JrUioQ0fBtd"
      },
      "execution_count": null,
      "outputs": []
    }
  ]
}