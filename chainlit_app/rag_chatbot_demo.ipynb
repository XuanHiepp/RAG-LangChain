{
 "cells": [
  {
   "cell_type": "markdown",
   "metadata": {
    "id": "Bn_3jDpTx6sk"
   },
   "source": [
    " ## 1. Install some libraries"
   ]
  },
  {
   "cell_type": "code",
   "execution_count": null,
   "metadata": {
    "colab": {
     "base_uri": "https://localhost:8080/"
    },
    "id": "qUcO7dtux6HZ",
    "outputId": "e3d49f0e-a3a4-4a47-a2eb-f5f0f9dc890c"
   },
   "outputs": [
    {
     "name": "stdout",
     "output_type": "stream",
     "text": [
      "\u001b[2K     \u001b[90m\u2501\u2501\u2501\u2501\u2501\u2501\u2501\u2501\u2501\u2501\u2501\u2501\u2501\u2501\u2501\u2501\u2501\u2501\u2501\u2501\u2501\u2501\u2501\u2501\u2501\u2501\u2501\u2501\u2501\u2501\u2501\u2501\u2501\u2501\u2501\u2501\u2501\u2501\u2501\u2501\u001b[0m \u001b[32m40.3/40.3 kB\u001b[0m \u001b[31m1.9 MB/s\u001b[0m eta \u001b[36m0:00:00\u001b[0m\n",
      "\u001b[2K     \u001b[90m\u2501\u2501\u2501\u2501\u2501\u2501\u2501\u2501\u2501\u2501\u2501\u2501\u2501\u2501\u2501\u2501\u2501\u2501\u2501\u2501\u2501\u2501\u2501\u2501\u2501\u2501\u2501\u2501\u2501\u2501\u2501\u2501\u2501\u2501\u2501\u2501\u2501\u2501\u2501\u2501\u001b[0m \u001b[32m327.5/327.5 kB\u001b[0m \u001b[31m15.9 MB/s\u001b[0m eta \u001b[36m0:00:00\u001b[0m\n",
      "\u001b[2K     \u001b[90m\u2501\u2501\u2501\u2501\u2501\u2501\u2501\u2501\u2501\u2501\u2501\u2501\u2501\u2501\u2501\u2501\u2501\u2501\u2501\u2501\u2501\u2501\u2501\u2501\u2501\u2501\u2501\u2501\u2501\u2501\u2501\u2501\u2501\u2501\u2501\u2501\u2501\u2501\u2501\u2501\u001b[0m \u001b[32m1.1/1.1 MB\u001b[0m \u001b[31m66.0 MB/s\u001b[0m eta \u001b[36m0:00:00\u001b[0m\n",
      "\u001b[2K     \u001b[90m\u2501\u2501\u2501\u2501\u2501\u2501\u2501\u2501\u2501\u2501\u2501\u2501\u2501\u2501\u2501\u2501\u2501\u2501\u2501\u2501\u2501\u2501\u2501\u2501\u2501\u2501\u2501\u2501\u2501\u2501\u2501\u2501\u2501\u2501\u2501\u2501\u2501\u2501\u2501\u2501\u001b[0m \u001b[32m4.3/4.3 MB\u001b[0m \u001b[31m50.9 MB/s\u001b[0m eta \u001b[36m0:00:00\u001b[0m\n",
      "\u001b[2K     \u001b[90m\u2501\u2501\u2501\u2501\u2501\u2501\u2501\u2501\u2501\u2501\u2501\u2501\u2501\u2501\u2501\u2501\u2501\u2501\u2501\u2501\u2501\u2501\u2501\u2501\u2501\u2501\u2501\u2501\u2501\u2501\u2501\u2501\u2501\u2501\u2501\u2501\u2501\u2501\u2501\u2501\u001b[0m \u001b[32m91.8/91.8 kB\u001b[0m \u001b[31m12.7 MB/s\u001b[0m eta \u001b[36m0:00:00\u001b[0m\n",
      "\u001b[2K     \u001b[90m\u2501\u2501\u2501\u2501\u2501\u2501\u2501\u2501\u2501\u2501\u2501\u2501\u2501\u2501\u2501\u2501\u2501\u2501\u2501\u2501\u2501\u2501\u2501\u2501\u2501\u2501\u2501\u2501\u2501\u2501\u2501\u2501\u2501\u2501\u2501\u2501\u2501\u2501\u2501\u2501\u001b[0m \u001b[32m48.7/48.7 kB\u001b[0m \u001b[31m6.7 MB/s\u001b[0m eta \u001b[36m0:00:00\u001b[0m\n",
      "\u001b[?25h  Preparing metadata (setup.py) ... \u001b[?25l\u001b[?25hdone\n",
      "\u001b[2K     \u001b[90m\u2501\u2501\u2501\u2501\u2501\u2501\u2501\u2501\u2501\u2501\u2501\u2501\u2501\u2501\u2501\u2501\u2501\u2501\u2501\u2501\u2501\u2501\u2501\u2501\u2501\u2501\u2501\u2501\u2501\u2501\u2501\u2501\u2501\u2501\u2501\u2501\u2501\u2501\u2501\u2501\u001b[0m \u001b[32m18.2/18.2 MB\u001b[0m \u001b[31m35.5 MB/s\u001b[0m eta \u001b[36m0:00:00\u001b[0m\n",
      "\u001b[2K     \u001b[90m\u2501\u2501\u2501\u2501\u2501\u2501\u2501\u2501\u2501\u2501\u2501\u2501\u2501\u2501\u2501\u2501\u2501\u2501\u2501\u2501\u2501\u2501\u2501\u2501\u2501\u2501\u2501\u2501\u2501\u2501\u2501\u2501\u2501\u2501\u2501\u2501\u2501\u2501\u2501\u2501\u001b[0m \u001b[32m53.0/53.0 kB\u001b[0m \u001b[31m7.6 MB/s\u001b[0m eta \u001b[36m0:00:00\u001b[0m\n",
      "\u001b[2K     \u001b[90m\u2501\u2501\u2501\u2501\u2501\u2501\u2501\u2501\u2501\u2501\u2501\u2501\u2501\u2501\u2501\u2501\u2501\u2501\u2501\u2501\u2501\u2501\u2501\u2501\u2501\u2501\u2501\u2501\u2501\u2501\u2501\u2501\u2501\u2501\u2501\u2501\u2501\u2501\u2501\u2501\u001b[0m \u001b[32m76.2/76.2 kB\u001b[0m \u001b[31m2.4 MB/s\u001b[0m eta \u001b[36m0:00:00\u001b[0m\n",
      "\u001b[?25h  Preparing metadata (setup.py) ... \u001b[?25l\u001b[?25hdone\n",
      "\u001b[2K     \u001b[90m\u2501\u2501\u2501\u2501\u2501\u2501\u2501\u2501\u2501\u2501\u2501\u2501\u2501\u2501\u2501\u2501\u2501\u2501\u2501\u2501\u2501\u2501\u2501\u2501\u2501\u2501\u2501\u2501\u2501\u2501\u2501\u2501\u2501\u2501\u2501\u2501\u2501\u2501\u2501\u2501\u001b[0m \u001b[32m60.3/60.3 kB\u001b[0m \u001b[31m9.0 MB/s\u001b[0m eta \u001b[36m0:00:00\u001b[0m\n",
      "\u001b[2K     \u001b[90m\u2501\u2501\u2501\u2501\u2501\u2501\u2501\u2501\u2501\u2501\u2501\u2501\u2501\u2501\u2501\u2501\u2501\u2501\u2501\u2501\u2501\u2501\u2501\u2501\u2501\u2501\u2501\u2501\u2501\u2501\u2501\u2501\u2501\u2501\u2501\u2501\u2501\u2501\u2501\u2501\u001b[0m \u001b[32m1.3/1.3 MB\u001b[0m \u001b[31m79.0 MB/s\u001b[0m eta \u001b[36m0:00:00\u001b[0m\n",
      "\u001b[2K     \u001b[90m\u2501\u2501\u2501\u2501\u2501\u2501\u2501\u2501\u2501\u2501\u2501\u2501\u2501\u2501\u2501\u2501\u2501\u2501\u2501\u2501\u2501\u2501\u2501\u2501\u2501\u2501\u2501\u2501\u2501\u2501\u2501\u2501\u2501\u2501\u2501\u2501\u2501\u2501\u2501\u2501\u001b[0m \u001b[32m57.7/57.7 kB\u001b[0m \u001b[31m8.3 MB/s\u001b[0m eta \u001b[36m0:00:00\u001b[0m\n",
      "\u001b[?25h  Building wheel for literalai (setup.py) ... \u001b[?25l\u001b[?25hdone\n",
      "  Building wheel for syncer (setup.py) ... \u001b[?25l\u001b[?25hdone\n",
      "\u001b[K\u001b[?25h/tools/node/bin/lt -> /tools/node/lib/node_modules/localtunnel/bin/lt.js\n",
      "+ localtunnel@2.0.2\n",
      "added 22 packages from 22 contributors in 2.201s\n",
      "\u001b[31mERROR: pip's dependency resolver does not currently take into account all the packages that are installed. This behaviour is the source of the following dependency conflicts.\n",
      "chainlit 1.1.304 requires numpy<2.0,>=1.26; python_version >= \"3.9\", but you have numpy 1.24.4 which is incompatible.\n",
      "pandas-stubs 2.0.3.230814 requires numpy>=1.25.0; python_version >= \"3.9\", but you have numpy 1.24.4 which is incompatible.\u001b[0m\u001b[31m\n",
      "\u001b[0m"
     ]
    }
   ],
   "source": [
    "!pip install -q transformers==4.41.2\n",
    "!pip install -q bitsandbytes==0.43.1\n",
    "!pip install -q accelerate==0.31.0\n",
    "!pip install -q langchain==0.2.5\n",
    "!pip install -q langchainhub==0.1.20\n",
    "!pip install -q langchain-chroma==0.1.1\n",
    "!pip install -q langchain-community==0.2.5\n",
    "!pip install -q langchain-openai==0.1.9\n",
    "!pip install -q langchain_huggingface==0.0.3\n",
    "!pip install -q chainlit==1.1.304\n",
    "!pip install -q python-dotenv==1.0.1\n",
    "!pip install -q pypdf==4.2.0\n",
    "!npm install -g localtunnel\n",
    "!pip install -q numpy==1.24.4\n",
    "!pip install -q pyngrok"
   ]
  },
  {
   "cell_type": "markdown",
   "metadata": {
    "id": "QdY7w6NYvzJq"
   },
   "source": [
    " ## 2. Create file file_name.py for demo"
   ]
  },
  {
   "cell_type": "code",
   "execution_count": null,
   "metadata": {
    "id": "2jrh1_e13iV7"
   },
   "outputs": [],
   "source": [
    "%%writefile file_name.py\n",
    "import chainlit as cl\n",
    "import torch\n",
    "\n",
    "from chainlit.types import AskFileResponse\n",
    "\n",
    "from transformers import BitsAndBytesConfig\n",
    "from transformers import AutoTokenizer, AutoModelForCausalLM, pipeline\n",
    "from langchain_huggingface.llms import HuggingFacePipeline\n",
    "\n",
    "from langchain.memory import ConversationBufferMemory\n",
    "from langchain_community.chat_message_histories import ChatMessageHistory\n",
    "from langchain.chains import ConversationalRetrievalChain\n",
    "\n",
    "from langchain_huggingface import HuggingFaceEmbeddings\n",
    "from langchain_chroma import Chroma\n",
    "from langchain_community.document_loaders import PyPDFLoader, TextLoader\n",
    "from langchain_text_splitters import RecursiveCharacterTextSplitter\n",
    "from langchain_core.runnables import RunnablePassthrough\n",
    "from langchain_core.output_parsers import StrOutputParser\n",
    "from langchain import hub\n",
    "\n",
    "\n",
    "# Write a function for input processing\n",
    "def process_file(file: AskFileResponse):\n",
    "    if file.type == \"text/plain\":\n",
    "        Loader = TextLoader\n",
    "    elif file.type == \"application/pdf\":\n",
    "        Loader = PyPDFLoader\n",
    "\n",
    "    loader = Loader(file.path)\n",
    "    documents = loader.load()\n",
    "    docs = text_splitter.split_documents(documents)\n",
    "    for i, doc in enumerate(docs):\n",
    "        doc.metadata[\"source\"] = f\"source_{i}\"\n",
    "    return docs\n",
    "\n",
    "# Write a function for Chroma database:\n",
    "\n",
    "\n",
    "def get_vector_db(file: AskFileResponse):\n",
    "    docs = process_file(file)\n",
    "    cl.user_session.set(\"docs\", docs)\n",
    "    vector_db = Chroma.from_documents(documents=docs, embedding=embedding)\n",
    "    return vector_db\n",
    "\n",
    "\n",
    "def get_huggingface_llm(model_name: str = \"lmsys/vicuna-7b-v1.5\", max_new_token: int = 512):\n",
    "    nf4_config = BitsAndBytesConfig(load_in_4bit=True,\n",
    "                                    bnb_4bit_quant_type=\"nf4\",\n",
    "                                    bnb_4bit_use_double_quant=True,\n",
    "                                    bnb_4bit_compute_dtype=torch.bfloat16)\n",
    "    model = AutoModelForCausalLM.from_pretrained(model_name,\n",
    "                                                 quantization_config=nf4_config,\n",
    "                                                 low_cpu_mem_usage=True,\n",
    "                                                 device_map=\"cuda\")\n",
    "    tokenizer = AutoTokenizer.from_pretrained(model_name)\n",
    "\n",
    "    model_pipeline = pipeline(\"text-generation\",\n",
    "                              model=model,\n",
    "                              tokenizer=tokenizer,\n",
    "                              max_new_tokens=max_new_token,\n",
    "                              pad_token_id=tokenizer.eos_token_id,\n",
    "                              device_map=\"auto\")\n",
    "\n",
    "    llm = HuggingFacePipeline(pipeline=model_pipeline)\n",
    "    return llm\n",
    "\n",
    "\n",
    "@cl.on_chat_start\n",
    "async def on_chat_start():\n",
    "    files = None\n",
    "    while files is None :\n",
    "        files = await cl.AskFileMessage(content=welcome_message,\n",
    "                                        accept =[\"text/plain\", \"application/pdf\"],\n",
    "                                        max_size_mb=20,\n",
    "                                        timeout=180).send()\n",
    "    file = files[0]\n",
    "\n",
    "    msg = cl.Message(content=f\"Processing '{file.name}'...\",\n",
    "                     disable_feedback=True)\n",
    "    await msg.send()\n",
    "\n",
    "    vector_db = await cl.make_async(get_vector_db)(file)\n",
    "\n",
    "    message_history = ChatMessageHistory()\n",
    "    memory = ConversationBufferMemory(memory_key=\"chat_history\",\n",
    "                                      output_key =\"answer\",\n",
    "                                      chat_memory=message_history,\n",
    "                                      return_messages=True)\n",
    "    retriever = vector_db.as_retriever(search_type=\"mmr\",\n",
    "                                       search_kwargs={\"k\":3})\n",
    "\n",
    "    chain = ConversationalRetrievalChain.from_llm(llm=LLM,\n",
    "                                                  chain_type=\"stuff\",\n",
    "                                                  retriever=retriever,\n",
    "                                                  memory=memory,\n",
    "                                                  return_source_documents=True)\n",
    "\n",
    "    msg.content = f\"'{file.name}' processed. You can now ask questions!\"\n",
    "    await msg.update()\n",
    "\n",
    "    cl.user_session.set(\"chain\", chain)\n",
    "\n",
    "\n",
    "@cl.on_message\n",
    "async def on_message(message: cl.Message):\n",
    "    chain = cl.user_session.get(\"chain\")\n",
    "    cb = cl.AsyncLangchainCallbackHandler()\n",
    "    res = await chain.ainvoke(message.content, callbacks=[cb])\n",
    "    answer = res[\"answer\"]\n",
    "    source_documents = res[\"source_documents\"]\n",
    "    text_elements = []\n",
    "\n",
    "    if source_documents :\n",
    "        for source_idx, source_doc in enumerate(source_documents):\n",
    "            source_name = f\"source_{source_idx}\"\n",
    "            text_elements.append(cl.Text(content=source_doc.page_content,\n",
    "                                         name=source_name))\n",
    "        source_names = [text_el.name for text_el in text_elements]\n",
    "\n",
    "        if source_names:\n",
    "            answer += f\"\\nSources: {', '.join(source_names)}\"\n",
    "        else:\n",
    "            answer += \"\\nNo sources found \"\n",
    "\n",
    "    await cl.Message(content=answer, elements=text_elements).send()\n",
    "\n",
    "\n",
    "# Create text splitter\n",
    "text_splitter = RecursiveCharacterTextSplitter(chunk_size=1000, chunk_overlap=100)\n",
    "\n",
    "# Create instance vectorization\n",
    "embedding = HuggingFaceEmbeddings()\n",
    "\n",
    "# Create Large Model\n",
    "LLM = get_huggingface_llm()\n",
    "\n",
    "# Write welcome message\n",
    "welcome_message = \"\"\"Welcome to the PDF QA! To get started:\n",
    "1. Upload a PDF or text file\n",
    "2. Ask a question about the file\n",
    "\"\"\""
   ]
  },
  {
   "cell_type": "markdown",
   "metadata": {
    "id": "PwSBeMQ1wyml"
   },
   "source": [
    " ## 3. Deploy chatbot demo using ngrok\n"
   ]
  },
  {
   "cell_type": "code",
   "execution_count": null,
   "metadata": {
    "id": "jJQUT1h53Xz2"
   },
   "outputs": [],
   "source": [
    "from pyngrok import ngrok\n",
    "!ngrok config add-authtoken your_authen"
   ]
  },
  {
   "cell_type": "code",
   "execution_count": null,
   "metadata": {
    "id": "kc5NeS4m3V7O"
   },
   "outputs": [],
   "source": [
    "url = ngrok.connect(port).public_url\n",
    "print(url)"
   ]
  },
  {
   "cell_type": "code",
   "execution_count": null,
   "metadata": {
    "id": "SBiLLosm3U0V"
   },
   "outputs": [],
   "source": [
    "!chainlit run file_name.py"
   ]
  }
 ],
 "metadata": {
  "accelerator": "GPU",
  "colab": {
   "gpuType": "T4",
   "provenance": []
  },
  "kernelspec": {
   "display_name": "Python 3",
   "name": "python3"
  },
  "language_info": {
   "name": "python"
  }
 },
 "nbformat": 4,
 "nbformat_minor": 0
}